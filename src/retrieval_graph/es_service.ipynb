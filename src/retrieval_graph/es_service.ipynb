{
 "cells": [
  {
   "cell_type": "code",
   "execution_count": 3,
   "id": "b8d25e7a",
   "metadata": {},
   "outputs": [],
   "source": [
    "import os\n",
    "from dotenv import load_dotenv\n",
    "from langchain_openai import OpenAIEmbeddings\n",
    "from langchain_elasticsearch import ElasticsearchStore\n",
    "from langchain_community.document_loaders import PyPDFLoader"
   ]
  },
  {
   "cell_type": "code",
   "execution_count": 4,
   "id": "ffdf9988",
   "metadata": {},
   "outputs": [],
   "source": [
    "from langchain.text_splitter import RecursiveCharacterTextSplitter"
   ]
  },
  {
   "cell_type": "code",
   "execution_count": 8,
   "id": "52cc20c1",
   "metadata": {},
   "outputs": [
    {
     "data": {
      "text/plain": [
       "True"
      ]
     },
     "execution_count": 8,
     "metadata": {},
     "output_type": "execute_result"
    }
   ],
   "source": [
    "load_dotenv()"
   ]
  },
  {
   "cell_type": "code",
   "execution_count": 9,
   "id": "fca070c9",
   "metadata": {},
   "outputs": [],
   "source": [
    "embedding_model = OpenAIEmbeddings(model='text-embedding-ada-002',\n",
    "                                   api_key=os.getenv('OPENAI_API_KEY'))"
   ]
  },
  {
   "cell_type": "code",
   "execution_count": 7,
   "id": "2ac50c18",
   "metadata": {},
   "outputs": [],
   "source": [
    "os.getenv('ELASTICSEARCH_URL')"
   ]
  },
  {
   "cell_type": "code",
   "execution_count": 10,
   "id": "717dac22",
   "metadata": {},
   "outputs": [],
   "source": [
    "import re\n",
    "def clean_whitespace(text):\n",
    "    text = re.sub(r'\\s+', ' ', text)       # 모든 연속 공백을 하나로\n",
    "    text = re.sub(r'(\\n\\s*)+\\n', '\\n', text)  # 여러 줄바꿈을 하나로\n",
    "    return text.strip()\n",
    "\n",
    "def remove_special_chars(text):\n",
    "    return re.sub(r'[^가-힣a-zA-Z0-9\\s.,;:?!()\\[\\]\\'\"-]', '', text)\n",
    "\n",
    "def remove_page_number(text):\n",
    "    text = re.sub(r'Page\\s*\\d+', '', text, flags=re.IGNORECASE)\n",
    "    text = re.sub(r'페이지\\s*\\d+', '', text)\n",
    "    return text\n",
    "\n",
    "def remove_email_url(text):\n",
    "    text = re.sub(r'\\b[\\w.-]+?@\\w+?\\.\\w+?\\b', '', text)  # 이메일\n",
    "    text = re.sub(r'http[s]?://\\S+', '', text)           # URL\n",
    "    return text\n",
    "\n",
    "def preprocess_chunk(text):\n",
    "    text = clean_whitespace(text)\n",
    "    text = remove_special_chars(text)\n",
    "    text = remove_page_number(text)\n",
    "    text = remove_email_url(text)\n",
    "    return text"
   ]
  },
  {
   "cell_type": "markdown",
   "id": "ed5e73db",
   "metadata": {},
   "source": [
    "# 문서 로드 및 파싱"
   ]
  },
  {
   "cell_type": "code",
   "execution_count": 11,
   "id": "30c3b1b7",
   "metadata": {},
   "outputs": [],
   "source": [
    "from glob import glob"
   ]
  },
  {
   "cell_type": "code",
   "execution_count": 12,
   "id": "9324746e",
   "metadata": {},
   "outputs": [],
   "source": [
    "file_paths = glob('data/*/*')"
   ]
  },
  {
   "cell_type": "code",
   "execution_count": 13,
   "id": "1654cabb",
   "metadata": {},
   "outputs": [],
   "source": [
    "apply_path = file_paths[0]\n",
    "policy_paths = file_paths[1:]"
   ]
  },
  {
   "cell_type": "code",
   "execution_count": 14,
   "id": "d86cd8d6",
   "metadata": {},
   "outputs": [],
   "source": [
    "loader = PyPDFLoader(apply_path)\n",
    "apply_documents = loader.load()  # 각 페이지가 Document 객체로 반환"
   ]
  },
  {
   "cell_type": "code",
   "execution_count": 15,
   "id": "d0cb5d31",
   "metadata": {},
   "outputs": [
    {
     "name": "stderr",
     "output_type": "stream",
     "text": [
      "100%|████████████████████████████████████████████████████████████████████████████████████| 4/4 [06:24<00:00, 96.00s/it]\n"
     ]
    }
   ],
   "source": [
    "from tqdm import tqdm\n",
    "\n",
    "policy_documents = []\n",
    "for policy_path in tqdm(policy_paths):\n",
    "    loader = PyPDFLoader(policy_path)\n",
    "    documents = loader.load()  # 각 페이지가 Document 객체로 반환\n",
    "    policy_documents.append(documents)"
   ]
  },
  {
   "cell_type": "markdown",
   "id": "0beb8edc",
   "metadata": {},
   "source": [
    "# 텍스트 전처리"
   ]
  },
  {
   "cell_type": "code",
   "execution_count": 16,
   "id": "65a478e9",
   "metadata": {},
   "outputs": [
    {
     "name": "stderr",
     "output_type": "stream",
     "text": [
      "100%|██████████████████████████████████████████████████████████████████████████████| 273/273 [00:00<00:00, 6203.11it/s]\n",
      "100%|██████████████████████████████████████████████████████████████████████████████| 205/205 [00:00<00:00, 7319.90it/s]\n",
      "100%|██████████████████████████████████████████████████████████████████████████████| 787/787 [00:00<00:00, 6195.45it/s]\n",
      "100%|█████████████████████████████████████████████████████████████████████████████| 391/391 [00:00<00:00, 12610.03it/s]\n",
      "100%|██████████████████████████████████████████████████████████████████████████████| 263/263 [00:00<00:00, 7512.58it/s]\n"
     ]
    }
   ],
   "source": [
    "for i in tqdm(range(len(apply_documents))):\n",
    "    apply_documents[i].page_content = preprocess_chunk(apply_documents[i].page_content)\n",
    "    \n",
    "for i in range(len(policy_documents)):\n",
    "    for j in tqdm(range(len(policy_documents[i]))):\n",
    "        policy_documents[i][j].page_content = preprocess_chunk(policy_documents[i][j].page_content)"
   ]
  },
  {
   "cell_type": "code",
   "execution_count": 17,
   "id": "a6c3ad2c",
   "metadata": {},
   "outputs": [],
   "source": [
    "splitter = RecursiveCharacterTextSplitter(chunk_size=1000, chunk_overlap=100)\n",
    "split_apply_documents = splitter.split_documents(apply_documents)"
   ]
  },
  {
   "cell_type": "code",
   "execution_count": 18,
   "id": "c00ce18f",
   "metadata": {},
   "outputs": [],
   "source": [
    "li_split_policy_documents = []\n",
    "for policy_document in policy_documents:\n",
    "    split_policy_documents = splitter.split_documents(policy_document)\n",
    "    li_split_policy_documents.append(split_policy_documents)"
   ]
  },
  {
   "cell_type": "code",
   "execution_count": 19,
   "id": "30b27d68",
   "metadata": {},
   "outputs": [],
   "source": [
    "all_split_policy_documents = [y for x in li_split_policy_documents for y in x]"
   ]
  },
  {
   "cell_type": "code",
   "execution_count": 20,
   "id": "3c180fab",
   "metadata": {},
   "outputs": [],
   "source": [
    "#2024 주택청약 FAQ\n",
    "embedding_apply = ElasticsearchStore(es_api_key=os.getenv('ELASTICSEARCH_API_KEY'),\n",
    "        es_url=os.getenv('ELASTICSEARCH_URL'),\n",
    "        index_name=\"embedding_apply\",\n",
    "        embedding=embedding_model)\n",
    "\n",
    "embedding_policy = ElasticsearchStore(es_api_key=os.getenv('ELASTICSEARCH_API_KEY'),\n",
    "        es_url=os.getenv('ELASTICSEARCH_URL'),\n",
    "        index_name=\"embedding_policy\",\n",
    "        embedding=embedding_model)"
   ]
  },
  {
   "cell_type": "code",
   "execution_count": 21,
   "id": "e0a57f80",
   "metadata": {},
   "outputs": [],
   "source": [
    "from tqdm import tqdm\n",
    "def batch_upload(vector_store, docs, batch_size=50):\n",
    "    for i in tqdm(range(0, len(docs), batch_size)):\n",
    "        vector_store.add_documents(docs[i:i+batch_size])"
   ]
  },
  {
   "cell_type": "code",
   "execution_count": 22,
   "id": "b0de47bb",
   "metadata": {},
   "outputs": [
    {
     "name": "stderr",
     "output_type": "stream",
     "text": [
      "100%|████████████████████████████████████████████████████████████████████████████████████| 7/7 [00:32<00:00,  4.64s/it]\n"
     ]
    }
   ],
   "source": [
    "batch_upload(embedding_apply, split_apply_documents)"
   ]
  },
  {
   "cell_type": "code",
   "execution_count": 23,
   "id": "08b0821a",
   "metadata": {},
   "outputs": [
    {
     "name": "stderr",
     "output_type": "stream",
     "text": [
      "100%|██████████████████████████████████████████████████████████████████████████████████| 39/39 [02:51<00:00,  4.41s/it]\n"
     ]
    }
   ],
   "source": [
    "batch_upload(embedding_policy, all_split_policy_documents)"
   ]
  },
  {
   "cell_type": "code",
   "execution_count": 29,
   "id": "aff2d00d",
   "metadata": {},
   "outputs": [],
   "source": [
    "query_vector = embedding_model.embed_query('해당 주택건설지역에 거주하다가 다른 주택건설지역으로 이주')"
   ]
  },
  {
   "cell_type": "code",
   "execution_count": 63,
   "id": "bcfbc0ec",
   "metadata": {},
   "outputs": [],
   "source": [
    "embedding_apply = ElasticsearchStore(es_api_key=os.getenv('ELASTICSEARCH_API_KEY'),\n",
    "        es_url=os.getenv('ELASTICSEARCH_URL'),\n",
    "        index_name=\"embedding_apply\",\n",
    "        embedding=embedding_model, strategy='hybrid')"
   ]
  },
  {
   "cell_type": "code",
   "execution_count": 91,
   "id": "6d6f170a",
   "metadata": {},
   "outputs": [],
   "source": [
    "from langchain_elasticsearch import ElasticsearchRetriever\n",
    "\n",
    "def hybrid_query(search_query: str):\n",
    "    query_vector = embedding_model.embed_query(search_query)\n",
    "    return {\n",
    "        \"query\": {\n",
    "            \"bool\": {\n",
    "                \"should\": [\n",
    "                    {\n",
    "                        \"match\": {\n",
    "                            \"text\": {\n",
    "                                \"query\": search_query,\n",
    "                                \"boost\": 0.2\n",
    "                            }\n",
    "                        }\n",
    "                    },\n",
    "                    {\n",
    "                        \"knn\": {\n",
    "                            \"field\": \"embedding\",\n",
    "                            \"query_vector\": query_vector,\n",
    "                            \"k\": 10,\n",
    "                            \"num_candidates\": 50,\n",
    "                            \"boost\": 0.8\n",
    "                        }\n",
    "                    }\n",
    "                ]\n",
    "            }\n",
    "        }\n",
    "    }\n",
    "\n",
    "retriever = ElasticsearchRetriever.from_es_params(\n",
    "    index_name=\"embedding_apply\",\n",
    "    body_func=hybrid_query,\n",
    "    content_field=\"text\",\n",
    "    url=os.getenv('ELASTICSEARCH_URL'),\n",
    "    api_key=os.getenv('ELASTICSEARCH_API_KEY')\n",
    ")\n",
    "\n",
    "docs = retriever.invoke(\"해당 주택건설지역에 거주하다가 다른 주택건설지역으로 이주\")"
   ]
  },
  {
   "cell_type": "code",
   "execution_count": null,
   "id": "2a6720b6",
   "metadata": {},
   "outputs": [],
   "source": []
  }
 ],
 "metadata": {
  "kernelspec": {
   "display_name": "Python 3 (ipykernel)",
   "language": "python",
   "name": "python3"
  },
  "language_info": {
   "codemirror_mode": {
    "name": "ipython",
    "version": 3
   },
   "file_extension": ".py",
   "mimetype": "text/x-python",
   "name": "python",
   "nbconvert_exporter": "python",
   "pygments_lexer": "ipython3",
   "version": "3.9.12"
  }
 },
 "nbformat": 4,
 "nbformat_minor": 5
}
